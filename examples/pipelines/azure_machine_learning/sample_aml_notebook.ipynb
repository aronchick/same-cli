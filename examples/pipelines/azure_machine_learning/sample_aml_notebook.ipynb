{
 "metadata": {
  "language_info": {
   "codemirror_mode": {
    "name": "ipython",
    "version": 3
   },
   "file_extension": ".py",
   "mimetype": "text/x-python",
   "name": "python",
   "nbconvert_exporter": "python",
   "pygments_lexer": "ipython3",
   "version": 3
  },
  "orig_nbformat": 2
 },
 "nbformat": 4,
 "nbformat_minor": 2,
 "cells": [
  {
   "cell_type": "code",
   "execution_count": null,
   "metadata": {},
   "outputs": [],
   "source": [
    "\n",
    "import os\n",
    "from azureml.core.authentication import ServicePrincipalAuthentication\n",
    "\n",
    "AML_REQUIRED_ENV_VARIABLES=[\"AML_SP_NAME\",\n",
    "\"AML_SP_APP_ID\",\n",
    "\"AML_SP_OBJECT_ID\",\n",
    "\"AML_SP_TENANT_ID\",\n",
    "\"AML_SP_PASSWORD_VALUE\",\n",
    "\"AML_SP_PASSWORD_ID\",]\n",
    "\n",
    "AML_AUTHENTICATION_DICT = {}\n",
    "missing_authentication_values = []\n",
    "\n",
    "for var in AML_REQUIRED_ENV_VARIABLES:\n",
    "    value = os.environ.get(var)\n",
    "    if value == \"\":\n",
    "        missing_authentication_values.append(var)\n",
    "    else:\n",
    "        AML_AUTHENTICATION_DICT[var] = value\n",
    "\n",
    "if len(missing_authentication_values) > 0:\n",
    "    raise\n",
    "\n",
    "svc_pr_password = os.environ.get(\"AZUREML_PASSWORD\")\n",
    "\n",
    "svc_pr = ServicePrincipalAuthentication(\n",
    "    tenant_id=\"my-tenant-id\",\n",
    "    service_principal_id=\"my-application-id\",\n",
    "    service_principal_password=svc_pr_password)\n",
    "\n",
    "\n",
    "ws = Workspace(\n",
    "    subscription_id=\"my-subscription-id\",\n",
    "    resource_group=\"my-ml-rg\",\n",
    "    workspace_name=\"my-ml-workspace\",\n",
    "    auth=svc_pr\n",
    "    )\n",
    "\n",
    "print(\"Found workspace {} at location {}\".format(ws.name, ws.location))"
   ]
  }
 ]
}