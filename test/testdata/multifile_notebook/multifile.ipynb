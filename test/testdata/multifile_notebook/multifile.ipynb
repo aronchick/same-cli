{
 "cells": [
  {
   "cell_type": "code",
   "execution_count": 5,
   "metadata": {
    "tags": [
     "same_step_0"
    ]
   },
   "outputs": [],
   "source": [
    "from utils.file_one import function_one\n",
    "from utils.file_two import function_two"
   ]
  },
  {
   "cell_type": "code",
   "execution_count": 6,
   "metadata": {
    "tags": [
     "same_step_1"
    ]
   },
   "outputs": [
    {
     "name": "stdout",
     "output_type": "stream",
     "text": [
      "Function One\n",
      "DF Head:      name                 address                    email          city  \\\n",
      "0    Gene         22 Acme Terrace  tibouchina1880@live.com  Philadelphia   \n",
      "1  Deonna         1355 Yorba Wynd    apina1901@outlook.com       Muskego   \n",
      "2   Kevin        1048 Howth Drive    guppy1958@outlook.com   Palm Desert   \n",
      "3  Joesph      1315 Ripley Circle   cutesy2033@outlook.com          Nixa   \n",
      "4  Hayden  52 Christopher Heights      alyre2013@yahoo.com     Littleton   \n",
      "\n",
      "        state                  date_time  randomdata_range  randomdata_float  \\\n",
      "0     Alabama 2003-07-09 01:56:38.899537              1036          0.838684   \n",
      "1        Ohio 2008-07-26 11:46:33.902603              1558          0.095778   \n",
      "2  California 2015-02-01 03:35:49.320929              1895          0.421368   \n",
      "3     Alabama 2018-08-09 08:35:02.631673              1568          0.078514   \n",
      "4    Michigan 2011-02-19 22:24:57.160866              1100          0.522102   \n",
      "\n",
      "                                     randomdata_text  \n",
      "0  Erlang is a general-purpose, concurrent, funct...  \n",
      "1  Do you have any idea why this is not working? ...  \n",
      "2  Type classes first appeared in the Haskell pro...  \n",
      "3  Its main implementation is the Glasgow Haskell...  \n",
      "4  Initially composing light-hearted and irrevere...  \n",
      "DF Size: 5000\n"
     ]
    }
   ],
   "source": [
    "a_df = function_one(5000)"
   ]
  },
  {
   "cell_type": "code",
   "execution_count": 7,
   "metadata": {
    "tags": [
     "same_step_2"
    ]
   },
   "outputs": [
    {
     "name": "stdout",
     "output_type": "stream",
     "text": [
      "Function Two\n",
      "DF Head:      name                 address                    email          city  \\\n",
      "0    Gene         22 Acme Terrace  tibouchina1880@live.com  Philadelphia   \n",
      "1  Deonna         1355 Yorba Wynd    apina1901@outlook.com       Muskego   \n",
      "2   Kevin        1048 Howth Drive    guppy1958@outlook.com   Palm Desert   \n",
      "3  Joesph      1315 Ripley Circle   cutesy2033@outlook.com          Nixa   \n",
      "4  Hayden  52 Christopher Heights      alyre2013@yahoo.com     Littleton   \n",
      "\n",
      "        state                  date_time  randomdata_range  randomdata_float  \\\n",
      "0     Alabama 2003-07-09 01:56:38.899537              1036          0.838684   \n",
      "1        Ohio 2008-07-26 11:46:33.902603              1558          0.095778   \n",
      "2  California 2015-02-01 03:35:49.320929              1895          0.421368   \n",
      "3     Alabama 2018-08-09 08:35:02.631673              1568          0.078514   \n",
      "4    Michigan 2011-02-19 22:24:57.160866              1100          0.522102   \n",
      "\n",
      "                                     randomdata_text  \n",
      "0  Erlang is a general-purpose, concurrent, funct...  \n",
      "1  Do you have any idea why this is not working? ...  \n",
      "2  Type classes first appeared in the Haskell pro...  \n",
      "3  Its main implementation is the Glasgow Haskell...  \n",
      "4  Initially composing light-hearted and irrevere...  \n",
      "DF Size: 5000\n"
     ]
    }
   ],
   "source": [
    "function_two(a_df)"
   ]
  },
  {
   "cell_type": "code",
   "execution_count": null,
   "metadata": {},
   "outputs": [],
   "source": []
  }
 ],
 "metadata": {
  "celltoolbar": "Tags",
  "interpreter": {
   "hash": "aee8b7b246df8f9039afb4144a1f6fd8d2ca17a180786b69acc140d282b71a49"
  },
  "kernelspec": {
   "display_name": "Python 3 (ipykernel)",
   "language": "python",
   "name": "python3"
  },
  "language_info": {
   "codemirror_mode": {
    "name": "ipython",
    "version": 3
   },
   "file_extension": ".py",
   "mimetype": "text/x-python",
   "name": "python",
   "nbconvert_exporter": "python",
   "pygments_lexer": "ipython3",
   "version": "3.9.5"
  }
 },
 "nbformat": 4,
 "nbformat_minor": 2
}
