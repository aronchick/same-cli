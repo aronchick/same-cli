{
 "cells": [
  {
   "cell_type": "markdown",
   "metadata": {},
   "source": [
    "# News Summarization Pipeline"
   ]
  },
  {
   "cell_type": "markdown",
   "metadata": {},
   "source": [
    "## Setup"
   ]
  },
  {
   "cell_type": "code",
   "execution_count": 94,
   "metadata": {},
   "outputs": [],
   "source": [
    "import kfp\n",
    "import kfp.onprem as onprem\n",
    "import kfp.dsl as dsl\n",
    "import kfp.components as components\n",
    "\n",
    "packages_to_install = []\n",
    "base_image = 'usa-xlos-ailab-platform-dtr.artifacts.pwc.com/kubeflow/python-minimum:news-summarization-minio'\n",
    "minio_poddefault_label = {\n",
    "    'name': 'attach-minio-vault',\n",
    "    'value': 'true',\n",
    "}"
   ]
  },
  {
   "cell_type": "markdown",
   "metadata": {},
   "source": [
    "## Kubeflow Pipeline\n",
    "### Python functions"
   ]
  },
  {
   "cell_type": "code",
   "execution_count": 95,
   "metadata": {
    "tags": [
     "parameters"
    ]
   },
   "outputs": [],
   "source": [
    "import json\n",
    "params={\n",
    "    'conf': {\n",
    "        'sasToken': '<<scrubbed>>',\n",
    "        'inputBlobName': '2020-12-10_AIS_News-summarization.json',\n",
    "        'outputBlobName': f'Kubeflow_pipeline_test/correlationId/response.json',\n",
    "        'storageAccountName': 'pzigxnu2srbluzs001',\n",
    "        'logSchema': {\n",
    "            'regionAndEnv': 'UE-STG',\n",
    "            'clientId': 'fa34cd82-6af1-4c51-b0f3-68698688d203',\n",
    "            'component': 'ai.platform.batch.model.request',\n",
    "            'correlationId': 'correlationId',\n",
    "            'engagementId': '5f8e04e8-9894-4ec6-b8c4-2d2474725004',\n",
    "            'timestamp': '2020-09-10T20:24:19.513000'\n",
    "        },\n",
    "        'containerName': '5f8e04e8-9894-4ec6-b8c4-2d2474725004',\n",
    "    }\n",
    "}"
   ]
  },
  {
   "cell_type": "code",
   "execution_count": 96,
   "metadata": {
    "tags": [
     "environment=base_env",
     "same_step_0"
    ]
   },
   "outputs": [],
   "source": [
    "from utils.read_input import read_input"
   ]
  },
  {
   "cell_type": "code",
   "execution_count": 97,
   "metadata": {
    "tags": [
     "environment=steep_env",
     "same_step_1"
    ]
   },
   "outputs": [],
   "source": [
    "from utils.steep_model import steep_model"
   ]
  },
  {
   "cell_type": "code",
   "execution_count": 98,
   "metadata": {
    "tags": [
     "environment=sentiment_env",
     "same_step_2"
    ]
   },
   "outputs": [],
   "source": [
    "from utils.sentiment_model import sentiment_model"
   ]
  },
  {
   "cell_type": "code",
   "execution_count": 99,
   "metadata": {
    "tags": [
     "environment=summary_env",
     "same_step_3"
    ]
   },
   "outputs": [],
   "source": [
    "from utils.summary_model import summary_model"
   ]
  },
  {
   "cell_type": "code",
   "execution_count": 100,
   "metadata": {
    "tags": [
     "environment=ner_env",
     "same_step_4"
    ]
   },
   "outputs": [],
   "source": [
    "from utils.ner_model import ner_model"
   ]
  },
  {
   "cell_type": "code",
   "execution_count": 101,
   "metadata": {
    "tags": [
     "environment=base_env",
     "same_step_5"
    ]
   },
   "outputs": [],
   "source": [
    "from utils.zip_files import zip_files"
   ]
  },
  {
   "cell_type": "markdown",
   "metadata": {},
   "source": [
    "### Pipeline components"
   ]
  },
  {
   "cell_type": "raw",
   "metadata": {},
   "source": [
    "data_op = components.func_to_container_op(\n",
    "    read_input,\n",
    "    base_image=base_image,\n",
    "    packages_to_install=packages_to_install\n",
    ")\n",
    "\n",
    "sentiment_op = components.func_to_container_op(\n",
    "    sentiment_model,\n",
    "    base_image='usa-xlos-ailab-platform-dtr.artifacts.pwc.com/ai-platform/aip_sentiment_analysis:kubeflow-pipeline',\n",
    "    packages_to_install=packages_to_install # ['pandas==0.24.1','Keras==2.2.4','nltk','tensorflow==1.13.1']\n",
    ")\n",
    "\n",
    "summary_op = components.func_to_container_op(\n",
    "    summary_model,\n",
    "    base_image='usa-xlos-ailab-platform-dtr.artifacts.pwc.com/ai-platform/aip_document_summarization:kubeflow-pipeline',\n",
    "    packages_to_install=packages_to_install # ['pandas==0.24.1','kneed','nltk==3.2.5','spacy==2.3.2','numpy==1.17.2']\n",
    ")\n",
    "\n",
    "steep_op = components.func_to_container_op(\n",
    "    steep_model,\n",
    "    base_image='usa-xlos-ailab-platform-dtr.artifacts.pwc.com/ai-platform/aip_steep:kubeflow-pipeline',\n",
    "    packages_to_install=packages_to_install # ['scipy>= 0.13.3', 'numpy>= 1.8.2', 'scikit-learn==0.19.1', 'pandas==0.24.1']\n",
    ")\n",
    "\n",
    "ner_op = components.func_to_container_op(\n",
    "    ner_model,\n",
    "    base_image='usa-xlos-ailab-platform-dtr.artifacts.pwc.com/ai-platform/aip_ner_extraction:kubeflow-pipeline',\n",
    "    packages_to_install=packages_to_install # ['pandas==0.25.3','numpy>=1.10.4','spacy==2.2.1']\n",
    ")\n",
    "\n",
    "zip_op = components.func_to_container_op(\n",
    "    zip_files,\n",
    "    base_image=base_image,\n",
    "    packages_to_install=packages_to_install\n",
    ")"
   ]
  },
  {
   "cell_type": "markdown",
   "metadata": {},
   "source": [
    "### Pipeline definition"
   ]
  },
  {
   "cell_type": "raw",
   "metadata": {},
   "source": [
    "def add_label(op):\n",
    "    op.add_pod_label(\n",
    "        name=minio_poddefault_label['name'],\n",
    "        value=minio_poddefault_label['value'],\n",
    "    )\n",
    "\n",
    "@dsl.pipeline(\n",
    "    name=\"news-summarization-same\"\n",
    ")\n",
    "def news_summarization_kfp(\n",
    "    params:dict = {}\n",
    "):\n",
    "\n",
    "    get_data = (\n",
    "        data_op(pipeline_params = params)\n",
    "    )\n",
    "\n",
    "    get_data.execution_options.caching_strategy.max_cache_staleness = \"P0D\"\n",
    "\n",
    "    sentiment = (\n",
    "        sentiment_op(dataframe_long = get_data.outputs['dataframe_long'],\n",
    "                     input_json = get_data.outputs['input_json'],\n",
    "                     log = get_data.outputs['log'])\n",
    "        .after(get_data)\n",
    "    )\n",
    "\n",
    "    sentiment.execution_options.caching_strategy.max_cache_staleness = \"P0D\"\n",
    "\n",
    "    summary = (\n",
    "        summary_op(dataframe = get_data.outputs['dataframe'],\n",
    "                   model_json = get_data.outputs['model_json'],\n",
    "                   log = get_data.outputs['log'])\n",
    "        .after(get_data)\n",
    "    )\n",
    "\n",
    "    summary.execution_options.caching_strategy.max_cache_staleness = \"P0D\"\n",
    "\n",
    "    steep = (\n",
    "        steep_op(dataframe = get_data.outputs['dataframe'],\n",
    "                 model_json = get_data.outputs['model_json'],\n",
    "                 log = get_data.outputs['log'])\n",
    "        .after(get_data)\n",
    "    )\n",
    "    \n",
    "    steep.execution_options.caching_strategy.max_cache_staleness = \"P0D\"\n",
    "\n",
    "    ner = (\n",
    "        ner_op(dataframe = get_data.outputs['dataframe'],\n",
    "               model_json = get_data.outputs['model_json'],\n",
    "               log = get_data.outputs['log'])\n",
    "        .after(get_data)\n",
    "    )\n",
    "\n",
    "    ner.execution_options.caching_strategy.max_cache_staleness = \"P0D\"\n",
    "\n",
    "    zipit = (\n",
    "        zip_op(pipeline_params = params, \n",
    "               dataframe = get_data.outputs['dataframe'],\n",
    "               dataframe_long = get_data.outputs['dataframe_long'],\n",
    "               json_request = get_data.outputs['json_request'],\n",
    "               parameters = get_data.outputs['parameters'],\n",
    "               input_json = get_data.outputs['input_json'],\n",
    "               model_json = get_data.outputs['model_json'],\n",
    "               log = get_data.outputs['log'],\n",
    "               score_list = sentiment.outputs['score_list'],\n",
    "               summary_list = summary.outputs['summary_list'],\n",
    "               steep_list = steep.outputs['steep_list'],\n",
    "               ner_df = ner.outputs['ner_df']\n",
    "              )\n",
    "        .after(*[sentiment, summary, steep, ner])\n",
    "    )\n",
    "\n",
    "    zipit.execution_options.caching_strategy.max_cache_staleness = \"P0D\"\n",
    "    \n",
    "    # Injest Minio credentials to all components the same way as into notebooks\n",
    "    dsl.get_pipeline_conf().add_op_transformer(add_label)"
   ]
  },
  {
   "cell_type": "code",
   "execution_count": null,
   "metadata": {},
   "outputs": [],
   "source": []
  },
  {
   "cell_type": "code",
   "execution_count": null,
   "metadata": {},
   "outputs": [],
   "source": []
  }
 ],
 "metadata": {
  "celltoolbar": "Tags",
  "kernelspec": {
   "display_name": "Python 3",
   "language": "python",
   "name": "python3"
  },
  "language_info": {
   "codemirror_mode": {
    "name": "ipython",
    "version": 3
   },
   "file_extension": ".py",
   "mimetype": "text/x-python",
   "name": "python",
   "nbconvert_exporter": "python",
   "pygments_lexer": "ipython3",
   "version": "3.8.5"
  }
 },
 "nbformat": 4,
 "nbformat_minor": 4
}
